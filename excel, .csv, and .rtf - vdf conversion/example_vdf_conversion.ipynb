{
 "cells": [
  {
   "cell_type": "markdown",
   "id": "97dddd14-4876-4cbb-a693-18519d0fba7e",
   "metadata": {},
   "source": [
    "# Example Notebook for Converting a File to VDF"
   ]
  },
  {
   "cell_type": "markdown",
   "id": "a23b31e7-8e31-4f6c-a8ee-6f25c29242da",
   "metadata": {},
   "source": [
    "## Converting the File"
   ]
  },
  {
   "cell_type": "code",
   "execution_count": 25,
   "id": "f37ace88-4752-433e-ae27-1db0b07d0406",
   "metadata": {},
   "outputs": [],
   "source": [
    "# import the generic converter\n",
    "from util.generic_vdf_convert import GenericVDFConverter"
   ]
  },
  {
   "cell_type": "code",
   "execution_count": 26,
   "id": "d65236d0-5e49-4f80-8348-f86af87a6fa8",
   "metadata": {},
   "outputs": [],
   "source": [
    "# Set input paths\n",
    "config_path = (\n",
    "    \"example_convert_config.yaml\"\n",
    ")\n",
    "file_path = (\n",
    "    \"sample_files/example_file.csv\"\n",
    ")"
   ]
  },
  {
   "cell_type": "code",
   "execution_count": 27,
   "id": "475215ab-be02-4fa2-b773-7da34fe6cdcf",
   "metadata": {},
   "outputs": [],
   "source": [
    "converter = GenericVDFConverter(file_path, config_path)"
   ]
  },
  {
   "cell_type": "code",
   "execution_count": 28,
   "id": "d3f0e21f-02fc-41a8-9282-5058f414cfde",
   "metadata": {},
   "outputs": [
    {
     "name": "stdout",
     "output_type": "stream",
     "text": [
      "Reading in data...\n",
      "Formatting data...\n",
      "Updating header dictionary...\n",
      "Timezone was not defined: defaulted to PST\n",
      "Adding units...\n",
      "Verification Warning: Unit 'other' for column 'Step Time' is not valid.\n",
      "Completed generation of VDF file at path: sample_files/VDF/example_file_VDF.csv\n"
     ]
    },
    {
     "name": "stderr",
     "output_type": "stream",
     "text": [
      "/opt/conda/lib/python3.9/site-packages/pandas/core/base.py:1055: FutureWarning: In a future version, the Index constructor will not infer numeric dtypes when passed object-dtype sequences (matching Series behavior)\n",
      "  return Index(self).is_monotonic\n"
     ]
    }
   ],
   "source": [
    "converter.convert()"
   ]
  },
  {
   "cell_type": "markdown",
   "id": "6cb862b5-7f30-429c-aca8-e79a16978655",
   "metadata": {},
   "source": [
    "\n",
    "## Inspecting the Results"
   ]
  },
  {
   "cell_type": "code",
   "execution_count": 29,
   "id": "6f20e298-63fe-4bbc-bd91-dc35e727df87",
   "metadata": {},
   "outputs": [
    {
     "data": {
      "text/plain": [
       "{'Start Time': 1659044022000, 'Timezone': 'America/Los_Angeles'}"
      ]
     },
     "execution_count": 29,
     "metadata": {},
     "output_type": "execute_result"
    }
   ],
   "source": [
    "# Showing the metadata that was added to the VDF file.\n",
    "converter.header_dict"
   ]
  },
  {
   "cell_type": "code",
   "execution_count": 30,
   "id": "0cab3360-c598-4384-81ef-48f73d8f145b",
   "metadata": {
    "tags": []
   },
   "outputs": [
    {
     "data": {
      "text/html": [
       "<div>\n",
       "<style scoped>\n",
       "    .dataframe tbody tr th:only-of-type {\n",
       "        vertical-align: middle;\n",
       "    }\n",
       "\n",
       "    .dataframe tbody tr th {\n",
       "        vertical-align: top;\n",
       "    }\n",
       "\n",
       "    .dataframe thead th {\n",
       "        text-align: right;\n",
       "    }\n",
       "</style>\n",
       "<table border=\"1\" class=\"dataframe\">\n",
       "  <thead>\n",
       "    <tr style=\"text-align: right;\">\n",
       "      <th></th>\n",
       "      <th>Test Time</th>\n",
       "      <th>Voltage</th>\n",
       "      <th>Current</th>\n",
       "      <th>Ambient_Temperature</th>\n",
       "      <th>Aux_dV/dT (V/s)</th>\n",
       "      <th>Step Time</th>\n",
       "      <th>Step Index</th>\n",
       "      <th>Temperature</th>\n",
       "    </tr>\n",
       "  </thead>\n",
       "  <tbody>\n",
       "    <tr>\n",
       "      <th>-1</th>\n",
       "      <td>second</td>\n",
       "      <td>volt</td>\n",
       "      <td>amp</td>\n",
       "      <td>celsius</td>\n",
       "      <td>volt-second</td>\n",
       "      <td>other</td>\n",
       "      <td>None</td>\n",
       "      <td>celsius</td>\n",
       "    </tr>\n",
       "    <tr>\n",
       "      <th>0</th>\n",
       "      <td>0.003</td>\n",
       "      <td>1.386621</td>\n",
       "      <td>0.0</td>\n",
       "      <td>23.0</td>\n",
       "      <td>-0.000128</td>\n",
       "      <td>0.003</td>\n",
       "      <td>1</td>\n",
       "      <td>23.0</td>\n",
       "    </tr>\n",
       "    <tr>\n",
       "      <th>1</th>\n",
       "      <td>0.022</td>\n",
       "      <td>1.386628</td>\n",
       "      <td>0.0</td>\n",
       "      <td>24.0</td>\n",
       "      <td>-0.000128</td>\n",
       "      <td>0.0027</td>\n",
       "      <td>2</td>\n",
       "      <td>24.0</td>\n",
       "    </tr>\n",
       "    <tr>\n",
       "      <th>2</th>\n",
       "      <td>0.0407</td>\n",
       "      <td>1.386586</td>\n",
       "      <td>0.0</td>\n",
       "      <td>24.0</td>\n",
       "      <td>0.053282</td>\n",
       "      <td>0.0028</td>\n",
       "      <td>3</td>\n",
       "      <td>24.0</td>\n",
       "    </tr>\n",
       "    <tr>\n",
       "      <th>3</th>\n",
       "      <td>0.3908</td>\n",
       "      <td>1.242055</td>\n",
       "      <td>-20.16376</td>\n",
       "      <td>23.3</td>\n",
       "      <td>0.546795</td>\n",
       "      <td>0.3065</td>\n",
       "      <td>4</td>\n",
       "      <td>23.3</td>\n",
       "    </tr>\n",
       "  </tbody>\n",
       "</table>\n",
       "</div>"
      ],
      "text/plain": [
       "   Test Time   Voltage   Current Ambient_Temperature Aux_dV/dT (V/s)  \\\n",
       "-1    second      volt       amp             celsius     volt-second   \n",
       " 0     0.003  1.386621       0.0                23.0       -0.000128   \n",
       " 1     0.022  1.386628       0.0                24.0       -0.000128   \n",
       " 2    0.0407  1.386586       0.0                24.0        0.053282   \n",
       " 3    0.3908  1.242055 -20.16376                23.3        0.546795   \n",
       "\n",
       "   Step Time Step Index Temperature  \n",
       "-1     other       None     celsius  \n",
       " 0     0.003          1        23.0  \n",
       " 1    0.0027          2        24.0  \n",
       " 2    0.0028          3        24.0  \n",
       " 3    0.3065          4        23.3  "
      ]
     },
     "execution_count": 30,
     "metadata": {},
     "output_type": "execute_result"
    }
   ],
   "source": [
    "# Take a look at the VDF time data (units included)\n",
    "converter.final_df.head()"
   ]
  },
  {
   "cell_type": "code",
   "execution_count": 31,
   "id": "25abb355-c7af-4c17-b913-a8e30361f08c",
   "metadata": {},
   "outputs": [
    {
     "data": {
      "text/html": [
       "<div>\n",
       "<style scoped>\n",
       "    .dataframe tbody tr th:only-of-type {\n",
       "        vertical-align: middle;\n",
       "    }\n",
       "\n",
       "    .dataframe tbody tr th {\n",
       "        vertical-align: top;\n",
       "    }\n",
       "\n",
       "    .dataframe thead th {\n",
       "        text-align: right;\n",
       "    }\n",
       "</style>\n",
       "<table border=\"1\" class=\"dataframe\">\n",
       "  <thead>\n",
       "    <tr style=\"text-align: right;\">\n",
       "      <th></th>\n",
       "      <th>Test_Time</th>\n",
       "      <th>Main_Voltage</th>\n",
       "      <th>Main_Current</th>\n",
       "      <th>Ambient_Temperature</th>\n",
       "      <th>Aux_dV/dT (V/s)</th>\n",
       "      <th>Step Time</th>\n",
       "      <th>Step_Index</th>\n",
       "    </tr>\n",
       "  </thead>\n",
       "  <tbody>\n",
       "    <tr>\n",
       "      <th>0</th>\n",
       "      <td>0.0030</td>\n",
       "      <td>1.386621</td>\n",
       "      <td>0.00000</td>\n",
       "      <td>23.0</td>\n",
       "      <td>-0.000128</td>\n",
       "      <td>0.0030</td>\n",
       "      <td>1</td>\n",
       "    </tr>\n",
       "    <tr>\n",
       "      <th>1</th>\n",
       "      <td>0.0220</td>\n",
       "      <td>1.386628</td>\n",
       "      <td>0.00000</td>\n",
       "      <td>24.0</td>\n",
       "      <td>-0.000128</td>\n",
       "      <td>0.0027</td>\n",
       "      <td>2</td>\n",
       "    </tr>\n",
       "    <tr>\n",
       "      <th>2</th>\n",
       "      <td>0.0407</td>\n",
       "      <td>1.386586</td>\n",
       "      <td>0.00000</td>\n",
       "      <td>24.0</td>\n",
       "      <td>0.053282</td>\n",
       "      <td>0.0028</td>\n",
       "      <td>3</td>\n",
       "    </tr>\n",
       "    <tr>\n",
       "      <th>3</th>\n",
       "      <td>0.3908</td>\n",
       "      <td>1.242055</td>\n",
       "      <td>-20.16376</td>\n",
       "      <td>23.3</td>\n",
       "      <td>0.546795</td>\n",
       "      <td>0.3065</td>\n",
       "      <td>4</td>\n",
       "    </tr>\n",
       "    <tr>\n",
       "      <th>4</th>\n",
       "      <td>5.4032</td>\n",
       "      <td>1.048895</td>\n",
       "      <td>-40.00278</td>\n",
       "      <td>22.0</td>\n",
       "      <td>-0.026939</td>\n",
       "      <td>5.0022</td>\n",
       "      <td>5</td>\n",
       "    </tr>\n",
       "  </tbody>\n",
       "</table>\n",
       "</div>"
      ],
      "text/plain": [
       "   Test_Time  Main_Voltage  Main_Current  Ambient_Temperature  \\\n",
       "0     0.0030      1.386621       0.00000                 23.0   \n",
       "1     0.0220      1.386628       0.00000                 24.0   \n",
       "2     0.0407      1.386586       0.00000                 24.0   \n",
       "3     0.3908      1.242055     -20.16376                 23.3   \n",
       "4     5.4032      1.048895     -40.00278                 22.0   \n",
       "\n",
       "   Aux_dV/dT (V/s)  Step Time  Step_Index  \n",
       "0        -0.000128     0.0030           1  \n",
       "1        -0.000128     0.0027           2  \n",
       "2         0.053282     0.0028           3  \n",
       "3         0.546795     0.3065           4  \n",
       "4        -0.026939     5.0022           5  "
      ]
     },
     "execution_count": 31,
     "metadata": {},
     "output_type": "execute_result"
    }
   ],
   "source": [
    "# Take a look at the raw time data read in from the original file\n",
    "converter.time_df.head()"
   ]
  },
  {
   "cell_type": "code",
   "execution_count": 32,
   "id": "51067e91-b2d4-48b2-9e85-0dfea192bcd8",
   "metadata": {},
   "outputs": [
    {
     "data": {
      "text/html": [
       "<div>\n",
       "<style scoped>\n",
       "    .dataframe tbody tr th:only-of-type {\n",
       "        vertical-align: middle;\n",
       "    }\n",
       "\n",
       "    .dataframe tbody tr th {\n",
       "        vertical-align: top;\n",
       "    }\n",
       "\n",
       "    .dataframe thead th {\n",
       "        text-align: right;\n",
       "    }\n",
       "</style>\n",
       "<table border=\"1\" class=\"dataframe\">\n",
       "  <thead>\n",
       "    <tr style=\"text-align: right;\">\n",
       "      <th></th>\n",
       "      <th>Test Time</th>\n",
       "      <th>Voltage</th>\n",
       "      <th>Current</th>\n",
       "      <th>Ambient_Temperature</th>\n",
       "      <th>Aux_dV/dT (V/s)</th>\n",
       "      <th>Step Time</th>\n",
       "      <th>Step Index</th>\n",
       "      <th>Temperature</th>\n",
       "    </tr>\n",
       "  </thead>\n",
       "  <tbody>\n",
       "    <tr>\n",
       "      <th>0</th>\n",
       "      <td>0.0030</td>\n",
       "      <td>1.386621</td>\n",
       "      <td>0.00000</td>\n",
       "      <td>23.0</td>\n",
       "      <td>-0.000128</td>\n",
       "      <td>0.0030</td>\n",
       "      <td>1</td>\n",
       "      <td>23.0</td>\n",
       "    </tr>\n",
       "    <tr>\n",
       "      <th>1</th>\n",
       "      <td>0.0220</td>\n",
       "      <td>1.386628</td>\n",
       "      <td>0.00000</td>\n",
       "      <td>24.0</td>\n",
       "      <td>-0.000128</td>\n",
       "      <td>0.0027</td>\n",
       "      <td>2</td>\n",
       "      <td>24.0</td>\n",
       "    </tr>\n",
       "    <tr>\n",
       "      <th>2</th>\n",
       "      <td>0.0407</td>\n",
       "      <td>1.386586</td>\n",
       "      <td>0.00000</td>\n",
       "      <td>24.0</td>\n",
       "      <td>0.053282</td>\n",
       "      <td>0.0028</td>\n",
       "      <td>3</td>\n",
       "      <td>24.0</td>\n",
       "    </tr>\n",
       "    <tr>\n",
       "      <th>3</th>\n",
       "      <td>0.3908</td>\n",
       "      <td>1.242055</td>\n",
       "      <td>-20.16376</td>\n",
       "      <td>23.3</td>\n",
       "      <td>0.546795</td>\n",
       "      <td>0.3065</td>\n",
       "      <td>4</td>\n",
       "      <td>23.3</td>\n",
       "    </tr>\n",
       "    <tr>\n",
       "      <th>4</th>\n",
       "      <td>5.4032</td>\n",
       "      <td>1.048895</td>\n",
       "      <td>-40.00278</td>\n",
       "      <td>22.0</td>\n",
       "      <td>-0.026939</td>\n",
       "      <td>5.0022</td>\n",
       "      <td>5</td>\n",
       "      <td>22.0</td>\n",
       "    </tr>\n",
       "  </tbody>\n",
       "</table>\n",
       "</div>"
      ],
      "text/plain": [
       "   Test Time   Voltage   Current  Ambient_Temperature  Aux_dV/dT (V/s)  \\\n",
       "0     0.0030  1.386621   0.00000                 23.0        -0.000128   \n",
       "1     0.0220  1.386628   0.00000                 24.0        -0.000128   \n",
       "2     0.0407  1.386586   0.00000                 24.0         0.053282   \n",
       "3     0.3908  1.242055 -20.16376                 23.3         0.546795   \n",
       "4     5.4032  1.048895 -40.00278                 22.0        -0.026939   \n",
       "\n",
       "   Step Time  Step Index  Temperature  \n",
       "0     0.0030           1         23.0  \n",
       "1     0.0027           2         24.0  \n",
       "2     0.0028           3         24.0  \n",
       "3     0.3065           4         23.3  \n",
       "4     5.0022           5         22.0  "
      ]
     },
     "execution_count": 32,
     "metadata": {},
     "output_type": "execute_result"
    }
   ],
   "source": [
    "# Take a look at the formatted data (without the added units)\n",
    "converter.formatted_df.head()"
   ]
  },
  {
   "cell_type": "code",
   "execution_count": 33,
   "id": "45524c54-f5a0-4723-8ff1-11f3c3c4a1ab",
   "metadata": {},
   "outputs": [
    {
     "data": {
      "text/plain": [
       "<AxesSubplot:xlabel='Test Time'>"
      ]
     },
     "execution_count": 33,
     "metadata": {},
     "output_type": "execute_result"
    },
    {
     "data": {
      "image/png": "[encoded data removed]",
      "text/plain": [
       "<Figure size 432x288 with 1 Axes>"
      ]
     },
     "metadata": {
      "needs_background": "light"
     },
     "output_type": "display_data"
    }
   ],
   "source": [
    "# Visualize the data for a specific column\n",
    "converter.formatted_df.plot(x=\"Test Time\", y=\"Current\")"
   ]
  },
  {
   "cell_type": "code",
   "execution_count": null,
   "id": "50c0a29a-bcd6-45f5-b860-3eb80b7b330c",
   "metadata": {},
   "outputs": [],
   "source": []
  }
 ],
 "metadata": {
  "kernelspec": {
   "display_name": "Python 3 (ipykernel)",
   "language": "python",
   "name": "python3"
  },
  "language_info": {
   "codemirror_mode": {
    "name": "ipython",
    "version": 3
   },
   "file_extension": ".py",
   "mimetype": "text/x-python",
   "name": "python",
   "nbconvert_exporter": "python",
   "pygments_lexer": "ipython3",
   "version": "3.9.6"
  }
 },
 "nbformat": 4,
 "nbformat_minor": 5
}
