{
 "cells": [
  {
   "cell_type": "markdown",
   "id": "97dddd14-4876-4cbb-a693-18519d0fba7e",
   "metadata": {},
   "source": [
    "# Example Notebook for Converting a File to VDF"
   ]
  },
  {
   "cell_type": "markdown",
   "id": "a23b31e7-8e31-4f6c-a8ee-6f25c29242da",
   "metadata": {},
   "source": [
    "## Converting the File"
   ]
  },
  {
   "cell_type": "code",
   "execution_count": 1,
   "id": "f37ace88-4752-433e-ae27-1db0b07d0406",
   "metadata": {},
   "outputs": [],
   "source": [
    "# import the generic munger\n",
    "from util.generic_vdf_munge import GenericVDFMunger"
   ]
  },
  {
   "cell_type": "code",
   "execution_count": 34,
   "id": "d65236d0-5e49-4f80-8348-f86af87a6fa8",
   "metadata": {},
   "outputs": [],
   "source": [
    "# Set input paths\n",
    "config_path = (\n",
    "    \"example_munge_config.yaml\"\n",
    ")\n",
    "file_path = (\n",
    "    \"sample_files/example_file.csv\"\n",
    ")"
   ]
  },
  {
   "cell_type": "code",
   "execution_count": 35,
   "id": "475215ab-be02-4fa2-b773-7da34fe6cdcf",
   "metadata": {},
   "outputs": [],
   "source": [
    "munger = GenericVDFMunger(file_path, config_path)"
   ]
  },
  {
   "cell_type": "code",
   "execution_count": 36,
   "id": "d3f0e21f-02fc-41a8-9282-5058f414cfde",
   "metadata": {},
   "outputs": [
    {
     "name": "stdout",
     "output_type": "stream",
     "text": [
      "Reading in data...\n",
      "Formatting data...\n",
      "Updating header dictionary...\n",
      "Timezone was not defined: defaulted to PST\n",
      "Adding units...\n",
      "Verification Warning: Unit 'other' for column 'Step Time' is not valid.\n",
      "Completed generation of VDF file at path: sample_files/VDF/example_file_VDF.csv\n"
     ]
    },
    {
     "name": "stderr",
     "output_type": "stream",
     "text": [
      "/opt/conda/lib/python3.9/site-packages/pandas/core/base.py:1055: FutureWarning: In a future version, the Index constructor will not infer numeric dtypes when passed object-dtype sequences (matching Series behavior)\n",
      "  return Index(self).is_monotonic\n"
     ]
    }
   ],
   "source": [
    "munger.convert()"
   ]
  },
  {
   "cell_type": "markdown",
   "id": "6cb862b5-7f30-429c-aca8-e79a16978655",
   "metadata": {},
   "source": [
    "\n",
    "## Inspecting the Results"
   ]
  },
  {
   "cell_type": "code",
   "execution_count": 1,
   "id": "6f20e298-63fe-4bbc-bd91-dc35e727df87",
   "metadata": {},
   "outputs": [
    {
     "ename": "NameError",
     "evalue": "name 'munger' is not defined",
     "output_type": "error",
     "traceback": [
      "\u001b[0;31m---------------------------------------------------------------------------\u001b[0m",
      "\u001b[0;31mNameError\u001b[0m                                 Traceback (most recent call last)",
      "Cell \u001b[0;32mIn [1], line 2\u001b[0m\n\u001b[1;32m      1\u001b[0m \u001b[38;5;66;03m# Showing the metadata that was added to the VDF file.\u001b[39;00m\n\u001b[0;32m----> 2\u001b[0m \u001b[43mmunger\u001b[49m\u001b[38;5;241m.\u001b[39mheader_dict\n",
      "\u001b[0;31mNameError\u001b[0m: name 'munger' is not defined"
     ]
    }
   ],
   "source": [
    "# Showing the metadata that was added to the VDF file.\n",
    "munger.header_dict"
   ]
  },
  {
   "cell_type": "code",
   "execution_count": null,
   "id": "0cab3360-c598-4384-81ef-48f73d8f145b",
   "metadata": {
    "tags": []
   },
   "outputs": [],
   "source": [
    "# Take a look at the VDF time data (units included)\n",
    "munger.final_df.head()"
   ]
  },
  {
   "cell_type": "code",
   "execution_count": null,
   "id": "25abb355-c7af-4c17-b913-a8e30361f08c",
   "metadata": {},
   "outputs": [],
   "source": [
    "# Take a look at the raw time data read in from the original file\n",
    "munger.time_df.head()"
   ]
  },
  {
   "cell_type": "code",
   "execution_count": null,
   "id": "51067e91-b2d4-48b2-9e85-0dfea192bcd8",
   "metadata": {},
   "outputs": [],
   "source": [
    "# Take a look at the formatted data (without the added units)\n",
    "munger.formatted_df.head()"
   ]
  },
  {
   "cell_type": "code",
   "execution_count": null,
   "id": "45524c54-f5a0-4723-8ff1-11f3c3c4a1ab",
   "metadata": {},
   "outputs": [],
   "source": [
    "# Visualize the data for a specific column\n",
    "munger.formatted_df.plot(x=\"Test Time\", y=\"Current\")"
   ]
  },
  {
   "cell_type": "code",
   "execution_count": null,
   "id": "50c0a29a-bcd6-45f5-b860-3eb80b7b330c",
   "metadata": {},
   "outputs": [],
   "source": []
  }
 ],
 "metadata": {
  "kernelspec": {
   "display_name": "Python 3 (ipykernel)",
   "language": "python",
   "name": "python3"
  },
  "language_info": {
   "codemirror_mode": {
    "name": "ipython",
    "version": 3
   },
   "file_extension": ".py",
   "mimetype": "text/x-python",
   "name": "python",
   "nbconvert_exporter": "python",
   "pygments_lexer": "ipython3",
   "version": "3.9.6"
  }
 },
 "nbformat": 4,
 "nbformat_minor": 5
}
